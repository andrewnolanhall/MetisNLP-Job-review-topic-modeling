{
 "cells": [
  {
   "cell_type": "markdown",
   "id": "e4aa8605",
   "metadata": {},
   "source": [
    "Initial file for Metis NLP project"
   ]
  },
  {
   "cell_type": "code",
   "execution_count": null,
   "id": "28db1263",
   "metadata": {},
   "outputs": [],
   "source": []
  }
 ],
 "metadata": {
  "kernelspec": {
   "display_name": "Python 3 (unsupervised env)",
   "language": "python",
   "name": "unsupervised"
  },
  "language_info": {
   "codemirror_mode": {
    "name": "ipython",
    "version": 3
   },
   "file_extension": ".py",
   "mimetype": "text/x-python",
   "name": "python",
   "nbconvert_exporter": "python",
   "pygments_lexer": "ipython3",
   "version": "3.8.13"
  }
 },
 "nbformat": 4,
 "nbformat_minor": 5
}
